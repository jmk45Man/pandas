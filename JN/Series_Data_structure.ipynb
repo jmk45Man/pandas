{
 "cells": [
  {
   "cell_type": "code",
   "execution_count": 11,
   "id": "f4b80ded-934d-4021-b30e-ff33cc033975",
   "metadata": {},
   "outputs": [
    {
     "name": "stdout",
     "output_type": "stream",
     "text": [
      "a    3.0\n",
      "s    4.0\n",
      "d    5.0\n",
      "f    6.0\n",
      "g    7.0\n",
      "Name: Python, dtype: float64\n",
      "<class 'pandas.core.series.Series'>\n"
     ]
    }
   ],
   "source": [
    "import pandas as pd\n",
    "x = [3,4,5,6,7]\n",
    "var = pd.Series(x,index = ['a','s','d','f','g'],dtype = float,name = \"Python\")\n",
    "print(var)\n",
    "print(type(var))"
   ]
  },
  {
   "cell_type": "code",
   "execution_count": 12,
   "id": "800ea51a-0984-4c62-acf4-387848466731",
   "metadata": {},
   "outputs": [
    {
     "name": "stdout",
     "output_type": "stream",
     "text": [
      "name    [Python, C, CPP, Java]\n",
      "por           [12, 13, 14, 15]\n",
      "rank              [1, 4, 3, 2]\n",
      "dtype: object\n",
      "<class 'pandas.core.series.Series'>\n"
     ]
    }
   ],
   "source": [
    "dic = {\"name\" : ['Python','C','CPP','Java'],\"por\" : [12,13,14,15], \"rank\": [1,4,3,2]}\n",
    "var1 = pd.Series(dic)\n",
    "print(var1)\n",
    "print(type(var1))"
   ]
  },
  {
   "cell_type": "code",
   "execution_count": 13,
   "id": "0016462e-2519-4eef-a0ea-fbcbd3943b2e",
   "metadata": {},
   "outputs": [
    {
     "name": "stdout",
     "output_type": "stream",
     "text": [
      "0    12\n",
      "1    12\n",
      "2    12\n",
      "3    12\n",
      "4    12\n",
      "5    12\n",
      "6    12\n",
      "dtype: int64\n",
      "<class 'pandas.core.series.Series'>\n"
     ]
    }
   ],
   "source": [
    "s1 = pd.Series(12,index = [0,1,2,3,4,5,6])\n",
    "\n",
    "print(s1)\n",
    "print(type(s1))"
   ]
  },
  {
   "cell_type": "code",
   "execution_count": 14,
   "id": "2afc4935-9169-4dbd-813f-e95ccf23aee3",
   "metadata": {},
   "outputs": [
    {
     "name": "stdout",
     "output_type": "stream",
     "text": [
      "0    28.0\n",
      "1    28.0\n",
      "2    28.0\n",
      "3    28.0\n",
      "4     NaN\n",
      "5     NaN\n",
      "6     NaN\n",
      "7     NaN\n",
      "dtype: float64\n"
     ]
    }
   ],
   "source": [
    "s2 = pd.Series(12,index = [0,1,2,3])\n",
    "s3 = pd.Series(16,index = [0,1,2,3,4,5,6,7])\n",
    "\n",
    "print(s2+s3)"
   ]
  },
  {
   "cell_type": "code",
   "execution_count": null,
   "id": "4ab4cbe0-3754-4d20-8d72-b7f4a209d046",
   "metadata": {},
   "outputs": [],
   "source": []
  }
 ],
 "metadata": {
  "kernelspec": {
   "display_name": "Python 3 (ipykernel)",
   "language": "python",
   "name": "python3"
  },
  "language_info": {
   "codemirror_mode": {
    "name": "ipython",
    "version": 3
   },
   "file_extension": ".py",
   "mimetype": "text/x-python",
   "name": "python",
   "nbconvert_exporter": "python",
   "pygments_lexer": "ipython3",
   "version": "3.12.2"
  }
 },
 "nbformat": 4,
 "nbformat_minor": 5
}

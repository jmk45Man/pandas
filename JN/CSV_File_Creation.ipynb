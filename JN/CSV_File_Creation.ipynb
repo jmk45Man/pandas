{
 "cells": [
  {
   "cell_type": "code",
   "execution_count": 1,
   "id": "73a9caa3-7f6b-4619-9088-93d6a100794b",
   "metadata": {},
   "outputs": [
    {
     "name": "stdout",
     "output_type": "stream",
     "text": [
      "    A   B   C   D\n",
      "0  45  32  45  45\n",
      "1  87  98  66  87\n",
      "2  67  65  23  56\n",
      "3  32  12  98  26\n",
      "4  98  90  67  87\n"
     ]
    }
   ],
   "source": [
    "import pandas as pd\n",
    "var = pd.DataFrame({\"A\":[45,87,67,32,98],\"B\":[32,98,65,12,90],\"C\":[45,66,23,98,67],\"D\":[45,87,56,26,87]})\n",
    "print(var)"
   ]
  },
  {
   "cell_type": "code",
   "execution_count": 2,
   "id": "3c179d4c-f51a-44b8-9b1b-bb7fea6d55e9",
   "metadata": {},
   "outputs": [],
   "source": [
    "var.to_csv(\"Test_new2.csv\",index = False,header = ['E','S','D','F'])"
   ]
  }
 ],
 "metadata": {
  "kernelspec": {
   "display_name": "Python 3 (ipykernel)",
   "language": "python",
   "name": "python3"
  },
  "language_info": {
   "codemirror_mode": {
    "name": "ipython",
    "version": 3
   },
   "file_extension": ".py",
   "mimetype": "text/x-python",
   "name": "python",
   "nbconvert_exporter": "python",
   "pygments_lexer": "ipython3",
   "version": "3.12.2"
  }
 },
 "nbformat": 4,
 "nbformat_minor": 5
}

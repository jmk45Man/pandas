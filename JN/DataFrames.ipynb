{
 "cells": [
  {
   "cell_type": "code",
   "execution_count": 6,
   "id": "9bdadd4a-053f-464d-b1ff-3f5111acb032",
   "metadata": {},
   "outputs": [
    {
     "name": "stdout",
     "output_type": "stream",
     "text": [
      "   0\n",
      "0  1\n",
      "1  2\n",
      "2  3\n",
      "3  4\n",
      "4  5\n"
     ]
    }
   ],
   "source": [
    "import pandas as pd\n",
    "line = [1,2,3,4,5]\n",
    "var = pd.DataFrame(line)\n",
    "print(var)"
   ]
  },
  {
   "cell_type": "code",
   "execution_count": 3,
   "id": "eb583f68-c11f-46fe-9296-20e25406d61a",
   "metadata": {},
   "outputs": [
    {
     "name": "stdout",
     "output_type": "stream",
     "text": [
      "      Name  Age  Gender\n",
      "0    Janak   19    Male\n",
      "1  Sapkota   19    None\n",
      "2   Janaki   22  female\n",
      "3  jagriti   17  female\n",
      "<class 'pandas.core.frame.DataFrame'>\n"
     ]
    }
   ],
   "source": [
    "import pandas as pd\n",
    "dic = {\"Name\" : ['Janak','Sapkota','Janaki','jagriti'],\"Age\" :[19,19,22,17],\"Gender\" :['Male','None','female','female']}\n",
    "var1 = pd.DataFrame(dic)\n",
    "print(var1)\n",
    "print(type(var1))"
   ]
  },
  {
   "cell_type": "code",
   "execution_count": 4,
   "id": "ad45ae13-4b78-4faf-80d7-b79b5a98550f",
   "metadata": {},
   "outputs": [
    {
     "name": "stdout",
     "output_type": "stream",
     "text": [
      "    0   1   2   3   4\n",
      "0   1   2   3   4   5\n",
      "1  11  12  13  14  15\n",
      "2  45  46  47  48  49\n",
      "<class 'pandas.core.frame.DataFrame'>\n"
     ]
    }
   ],
   "source": [
    "list_1 = [[1,2,3,4,5],[11,12,13,14,15],[45,46,47,48,49]]\n",
    "var2 = pd.DataFrame(list_1)\n",
    "print(var2)\n",
    "print(type(var1))"
   ]
  },
  {
   "cell_type": "code",
   "execution_count": 6,
   "id": "b9241e51-9182-4119-8bfa-8d79146db712",
   "metadata": {},
   "outputs": [
    {
     "name": "stdout",
     "output_type": "stream",
     "text": [
      "    0   1   2   3   4\n",
      "0   1   2   3   4   5\n",
      "1  11  12  13  14  15\n",
      "2  45  46  47  48  49\n"
     ]
    }
   ],
   "source": [
    "series = {\"P\" : pd.Series([1,2,3,4,5]) , \"Q\" : pd.Series([1,2,3,4,5])}\n",
    "\n",
    "var3 = pd.DataFrame(series)\n",
    "print(var2)"
   ]
  },
  {
   "cell_type": "code",
   "execution_count": null,
   "id": "4e80bde8-2717-489e-9384-ea90609137ad",
   "metadata": {},
   "outputs": [],
   "source": []
  }
 ],
 "metadata": {
  "kernelspec": {
   "display_name": "Python 3 (ipykernel)",
   "language": "python",
   "name": "python3"
  },
  "language_info": {
   "codemirror_mode": {
    "name": "ipython",
    "version": 3
   },
   "file_extension": ".py",
   "mimetype": "text/x-python",
   "name": "python",
   "nbconvert_exporter": "python",
   "pygments_lexer": "ipython3",
   "version": "3.12.2"
  }
 },
 "nbformat": 4,
 "nbformat_minor": 5
}
